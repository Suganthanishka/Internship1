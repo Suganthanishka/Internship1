{
 "cells": [
  {
   "cell_type": "code",
   "execution_count": 2,
   "id": "f7ef5fb5",
   "metadata": {},
   "outputs": [],
   "source": [
    "import re\n",
    "import selenium \n",
    "import pandas as pd\n",
    "from selenium import webdriver\n",
    "import time \n",
    "from selenium.common.exceptions import NoSuchElementException\n",
    "import warnings \n",
    "warnings.filterwarnings('ignore')\n",
    "from selenium.webdriver.common.by import By\n"
   ]
  },
  {
   "cell_type": "code",
   "execution_count": 3,
   "id": "e64984a8",
   "metadata": {},
   "outputs": [],
   "source": [
    "driver=webdriver.Chrome()\n",
    "driver.get(\"https:www.youtube.com/\")"
   ]
  },
  {
   "cell_type": "code",
   "execution_count": null,
   "id": "0a0111a5",
   "metadata": {},
   "outputs": [],
   "source": [
    "val=input(\"enter the item to search:\")"
   ]
  },
  {
   "cell_type": "code",
   "execution_count": null,
   "id": "40cae6f8",
   "metadata": {},
   "outputs": [],
   "source": [
    "url='https://en.wikipedia.org/wiki/List_of_most-viewed_YouTube_videos'\n",
    "driver.get(url)"
   ]
  },
  {
   "cell_type": "code",
   "execution_count": null,
   "id": "7eb6188d",
   "metadata": {},
   "outputs": [],
   "source": [
    "rank=[]\n",
    "name=[]\n",
    "artist=[]\n",
    "upload_date=[]\n",
    "views=[]\n"
   ]
  },
  {
   "cell_type": "code",
   "execution_count": null,
   "id": "ca355a97",
   "metadata": {},
   "outputs": [],
   "source": [
    "try:\n",
    "    for i in webdriver.find_elements_by_XPATH(\"//table[@class='wikitable sortable jquery-tablesorter'][1]/tbody/tr/td[1]\"):\n",
    "        rank.append(i.text)\n",
    "except NoSuchElementException:\n",
    "    rank.append(\"-\")"
   ]
  },
  {
   "cell_type": "code",
   "execution_count": null,
   "id": "a15abddd",
   "metadata": {},
   "outputs": [],
   "source": [
    "try:\n",
    "    for i in webdriver.find_elements_by_XPATH(\"//table[@class='wikitable sortable jquery-tablesorter'][1]/tbody/tr/td[2]\"):\n",
    "        name.append(i.text)\n",
    "except NoSuchElementException:\n",
    "    name.append(\"-\")"
   ]
  },
  {
   "cell_type": "code",
   "execution_count": null,
   "id": "8a718c01",
   "metadata": {},
   "outputs": [],
   "source": [
    "try:\n",
    "    for i in webdriver.find_elements_by_XPATH(\"//table[@class='wikitable sortable jquery-tablesorter'][1]/tbody/tr/td[3]\"):\n",
    "        artist.append(i.text)\n",
    "except NoSuchElementException:\n",
    "    artist.append(\"-\")"
   ]
  },
  {
   "cell_type": "code",
   "execution_count": null,
   "id": "e6b774eb",
   "metadata": {},
   "outputs": [],
   "source": [
    "try:\n",
    "    for i in webdriver.find_elements_by_XPATH(\"//table[@class='wikitable sortable jquery-tablesorter'][1]/tbody/tr/td[4]\"):\n",
    "        date.append(i.text)\n",
    "except NoSuchElementException:\n",
    "    date.append(\"-\")"
   ]
  },
  {
   "cell_type": "code",
   "execution_count": null,
   "id": "91043c84",
   "metadata": {},
   "outputs": [],
   "source": [
    "try:\n",
    "    for i in webdriver.find_elements_by_XPATH(\"//table[@class='wikitable sortable jquery-tablesorter'][1]/tbody/tr/td[5]\"):\n",
    "        views.append(i.text)\n",
    "except NoSuchElementException:\n",
    "    views.append(\"-\")"
   ]
  },
  {
   "cell_type": "code",
   "execution_count": null,
   "id": "32616812",
   "metadata": {},
   "outputs": [],
   "source": [
    "len(rank),\n",
    "len(name),\n",
    "len(artist),\n",
    "len(upload_date),\n",
    "len(views)"
   ]
  },
  {
   "cell_type": "code",
   "execution_count": null,
   "id": "f01e7125",
   "metadata": {},
   "outputs": [],
   "source": [
    "driver=webdriver.Chrome()"
   ]
  },
  {
   "cell_type": "code",
   "execution_count": null,
   "id": "984b536f",
   "metadata": {},
   "outputs": [],
   "source": [
    "driver=webdriver.Chrome()\n",
    "driver.get('https://www.bcci.tv/')"
   ]
  },
  {
   "cell_type": "code",
   "execution_count": null,
   "id": "315c6a5f",
   "metadata": {},
   "outputs": [],
   "source": [
    "btn=driver.find_element_by_xpath(\"//div[@class='navigation__drop-down drop-down drop-down--reveal-on-hover']/div/ul/li/a\")\n",
    "driver.get(btn.get_attribute(\"href\"))\n",
    "time.sleep(3)\n"
   ]
  },
  {
   "cell_type": "code",
   "execution_count": null,
   "id": "a08ebd94",
   "metadata": {},
   "outputs": [],
   "source": [
    "series=[]\n",
    "place=[]\n",
    "date=[]\n",
    "time=[]\n"
   ]
  },
  {
   "cell_type": "code",
   "execution_count": null,
   "id": "2ce54d3e",
   "metadata": {},
   "outputs": [],
   "source": [
    "for i in driver.find_elements_By_XPATH(\"//div[@class='fixture_format-strip']/span[@class='u-unskewed-text fixture_tourmanent-label u-truncated']\"):\n",
    "    series.append(i.text)\n",
    "    "
   ]
  },
  {
   "cell_type": "code",
   "execution_count": null,
   "id": "d0d081f7",
   "metadata": {},
   "outputs": [],
   "source": [
    "for i in driver.find_elements_By_XPATH(\"//div[@class='fixture_description u-unskewed-text']/p/span\"):\n",
    "    place.append(i.text)"
   ]
  },
  {
   "cell_type": "code",
   "execution_count": null,
   "id": "7031cea3",
   "metadata": {},
   "outputs": [],
   "source": [
    "for i in driver.find_elements_By_XPATH(\"//span[@class='fixture_datetime tablet-only']/strong[1]\"):\n",
    "    date.append(i.text.replace('\\n',' '))"
   ]
  },
  {
   "cell_type": "code",
   "execution_count": null,
   "id": "53e5c515",
   "metadata": {},
   "outputs": [],
   "source": [
    "driver=webdriver.Chrome()"
   ]
  },
  {
   "cell_type": "code",
   "execution_count": null,
   "id": "df97c9de",
   "metadata": {},
   "outputs": [],
   "source": [
    "driver=webdriver.Chrome()\n",
    "driver.get('http://statisticstimes.com/')\n"
   ]
  },
  {
   "cell_type": "code",
   "execution_count": null,
   "id": "6000f434",
   "metadata": {},
   "outputs": [],
   "source": [
    "rank=[]\n",
    "state=[]\n",
    "GSDP1=[]\n",
    "GSDP2=[]\n",
    "share=[]\n",
    "GDP_billion=[]\n"
   ]
  },
  {
   "cell_type": "code",
   "execution_count": null,
   "id": "385f33da",
   "metadata": {},
   "outputs": [],
   "source": [
    "driver.find_element_by_xpath(\"//div[@class='navbar']/div[2]/button\").click()\n",
    "driver.find_element_by_xpath(\"//div[@class='dropdown-content']/a[3]\").click()\n",
    "time.sleep(3)\n",
    "GDP = driver.find_element_by_xpath(\"/html/body/div[2]/div[2]/div[2]/ul/li[1]/a\").click()\n",
    "time.sleep(3)\n"
   ]
  },
  {
   "cell_type": "code",
   "execution_count": null,
   "id": "26e3b0ca",
   "metadata": {},
   "outputs": [],
   "source": [
    "try:\n",
    "    for i in driver.find_elements_By_XPATH(\"//table[@class='display dataTable']/tbody/tr/td[1]\"):\n",
    "        rank.append(i.text)\n",
    "except NoSuchElementException:\n",
    "    rank.append(\"_\")\n"
   ]
  },
  {
   "cell_type": "code",
   "execution_count": null,
   "id": "72b8aa15",
   "metadata": {},
   "outputs": [],
   "source": [
    "try:\n",
    "    for i in driver.find_elements_by_xpath(\"//table[@class='display dataTable']/tbody/tr/td[2]\"):\n",
    "        state.append(i.text)\n",
    "except NoSuchElementException:\n",
    "    state.append(\"_\")"
   ]
  },
  {
   "cell_type": "code",
   "execution_count": null,
   "id": "73bcf186",
   "metadata": {},
   "outputs": [],
   "source": [
    "try:\n",
    "    for i in driver.find_elements_by_xpath(\"//table[@class='display dataTable']/tbody/tr/td[3]\"):\n",
    "        GSDP1.append(i.text)\n",
    "except NoSuchElementException:\n",
    "    GSDP1.append(\"_\")"
   ]
  },
  {
   "cell_type": "code",
   "execution_count": null,
   "id": "a8ef2a13",
   "metadata": {},
   "outputs": [],
   "source": [
    "try:\n",
    "    for i in driver.find_elements_by_xpath(\"//table[@class='display dataTable']/tbody/tr/td[4]\"):\n",
    "        GSDP2.append(i.text)\n",
    "except NoSuchElementException:\n",
    "    GSDP2.append(\"_\")"
   ]
  },
  {
   "cell_type": "code",
   "execution_count": null,
   "id": "c79be383",
   "metadata": {},
   "outputs": [],
   "source": [
    "try:\n",
    "    for i in driver.find_elements_by_xpath(\"//table[@class='display dataTable']/tbody/tr/td[5]\"):\n",
    "        share.append(i.text)\n",
    "except NoSuchElementException:\n",
    "    share.append(\"_\")"
   ]
  },
  {
   "cell_type": "code",
   "execution_count": null,
   "id": "0efd17c4",
   "metadata": {},
   "outputs": [],
   "source": [
    "try:\n",
    "    for i in driver.find_elements_by_xpath(\"//table[@class='display dataTable']/tbody/tr/td[5]\"):\n",
    "        GDP_billion.append(i.text)\n",
    "except NoSuchElementException:\n",
    "    GDP_billion.append(\"_\")"
   ]
  },
  {
   "cell_type": "code",
   "execution_count": null,
   "id": "24a5ac94",
   "metadata": {},
   "outputs": [],
   "source": [
    "driver.close()"
   ]
  },
  {
   "cell_type": "code",
   "execution_count": null,
   "id": "d5998d16",
   "metadata": {},
   "outputs": [],
   "source": []
  },
  {
   "cell_type": "code",
   "execution_count": null,
   "id": "fd7fe01f",
   "metadata": {},
   "outputs": [],
   "source": []
  }
 ],
 "metadata": {
  "kernelspec": {
   "display_name": "Python 3 (ipykernel)",
   "language": "python",
   "name": "python3"
  },
  "language_info": {
   "codemirror_mode": {
    "name": "ipython",
    "version": 3
   },
   "file_extension": ".py",
   "mimetype": "text/x-python",
   "name": "python",
   "nbconvert_exporter": "python",
   "pygments_lexer": "ipython3",
   "version": "3.10.9"
  }
 },
 "nbformat": 4,
 "nbformat_minor": 5
}
