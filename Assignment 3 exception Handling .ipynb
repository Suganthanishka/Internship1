{
 "cells": [
  {
   "cell_type": "code",
   "execution_count": 3,
   "id": "8f029841",
   "metadata": {},
   "outputs": [],
   "source": [
    "from selenium import webdriver\n",
    "import time \n",
    "from selenium.common.exceptions import NoSuchElementException\n",
    "import warnings \n",
    "warnings.filterwarnings('ignore')\n",
    "from selenium.webdriver.common.by import By"
   ]
  },
  {
   "cell_type": "code",
   "execution_count": 4,
   "id": "b93a2b1a",
   "metadata": {},
   "outputs": [
    {
     "ename": "NoSuchElementException",
     "evalue": "Message: no such element: Unable to locate element: {\"method\":\"css selector\",\"selector\":\"[id=\"twotabsearchtextbox\"]\"}\n  (Session info: chrome=121.0.6167.185); For documentation on this error, please visit: https://www.selenium.dev/documentation/webdriver/troubleshooting/errors#no-such-element-exception\nStacktrace:\n\tGetHandleVerifier [0x00007FF620B47012+3522402]\n\t(No symbol) [0x00007FF620768352]\n\t(No symbol) [0x00007FF620615ABB]\n\t(No symbol) [0x00007FF62065BF0E]\n\t(No symbol) [0x00007FF62065C08C]\n\t(No symbol) [0x00007FF62069E437]\n\t(No symbol) [0x00007FF62067F09F]\n\t(No symbol) [0x00007FF62069BDA3]\n\t(No symbol) [0x00007FF62067EE03]\n\t(No symbol) [0x00007FF62064F4D4]\n\t(No symbol) [0x00007FF6206505F1]\n\tGetHandleVerifier [0x00007FF620B79B9D+3730157]\n\tGetHandleVerifier [0x00007FF620BCF02D+4079485]\n\tGetHandleVerifier [0x00007FF620BC75D3+4048163]\n\tGetHandleVerifier [0x00007FF62089A649+718233]\n\t(No symbol) [0x00007FF620774A3F]\n\t(No symbol) [0x00007FF62076FA94]\n\t(No symbol) [0x00007FF62076FBC2]\n\t(No symbol) [0x00007FF62075F2E4]\n\tBaseThreadInitThunk [0x00007FFA01017344+20]\n\tRtlUserThreadStart [0x00007FFA011826B1+33]\n",
     "output_type": "error",
     "traceback": [
      "\u001b[1;31m---------------------------------------------------------------------------\u001b[0m",
      "\u001b[1;31mNoSuchElementException\u001b[0m                    Traceback (most recent call last)",
      "Cell \u001b[1;32mIn[4], line 4\u001b[0m\n\u001b[0;32m      2\u001b[0m driver\u001b[38;5;241m.\u001b[39mget(\u001b[38;5;124m\"\u001b[39m\u001b[38;5;124mhttps://www.amazon.in/\u001b[39m\u001b[38;5;124m\"\u001b[39m)\n\u001b[0;32m      3\u001b[0m delay\u001b[38;5;241m=\u001b[39m\u001b[38;5;241m10\u001b[39m\n\u001b[1;32m----> 4\u001b[0m element\u001b[38;5;241m=\u001b[39m\u001b[43mdriver\u001b[49m\u001b[38;5;241;43m.\u001b[39;49m\u001b[43mfind_element\u001b[49m\u001b[43m(\u001b[49m\u001b[43mBy\u001b[49m\u001b[38;5;241;43m.\u001b[39;49m\u001b[43mID\u001b[49m\u001b[43m,\u001b[49m\u001b[38;5;124;43m\"\u001b[39;49m\u001b[38;5;124;43mtwotabsearchtextbox\u001b[39;49m\u001b[38;5;124;43m\"\u001b[39;49m\u001b[43m)\u001b[49m\n\u001b[0;32m      5\u001b[0m element\u001b[38;5;241m.\u001b[39msend_keys(\u001b[38;5;124m'\u001b[39m\u001b[38;5;124mguitar\u001b[39m\u001b[38;5;124m'\u001b[39m)\n\u001b[0;32m      6\u001b[0m element\u001b[38;5;241m.\u001b[39mtext\n",
      "File \u001b[1;32m~\\anaconda3\\lib\\site-packages\\selenium\\webdriver\\remote\\webdriver.py:741\u001b[0m, in \u001b[0;36mWebDriver.find_element\u001b[1;34m(self, by, value)\u001b[0m\n\u001b[0;32m    738\u001b[0m     by \u001b[38;5;241m=\u001b[39m By\u001b[38;5;241m.\u001b[39mCSS_SELECTOR\n\u001b[0;32m    739\u001b[0m     value \u001b[38;5;241m=\u001b[39m \u001b[38;5;124mf\u001b[39m\u001b[38;5;124m'\u001b[39m\u001b[38;5;124m[name=\u001b[39m\u001b[38;5;124m\"\u001b[39m\u001b[38;5;132;01m{\u001b[39;00mvalue\u001b[38;5;132;01m}\u001b[39;00m\u001b[38;5;124m\"\u001b[39m\u001b[38;5;124m]\u001b[39m\u001b[38;5;124m'\u001b[39m\n\u001b[1;32m--> 741\u001b[0m \u001b[38;5;28;01mreturn\u001b[39;00m \u001b[38;5;28;43mself\u001b[39;49m\u001b[38;5;241;43m.\u001b[39;49m\u001b[43mexecute\u001b[49m\u001b[43m(\u001b[49m\u001b[43mCommand\u001b[49m\u001b[38;5;241;43m.\u001b[39;49m\u001b[43mFIND_ELEMENT\u001b[49m\u001b[43m,\u001b[49m\u001b[43m \u001b[49m\u001b[43m{\u001b[49m\u001b[38;5;124;43m\"\u001b[39;49m\u001b[38;5;124;43musing\u001b[39;49m\u001b[38;5;124;43m\"\u001b[39;49m\u001b[43m:\u001b[49m\u001b[43m \u001b[49m\u001b[43mby\u001b[49m\u001b[43m,\u001b[49m\u001b[43m \u001b[49m\u001b[38;5;124;43m\"\u001b[39;49m\u001b[38;5;124;43mvalue\u001b[39;49m\u001b[38;5;124;43m\"\u001b[39;49m\u001b[43m:\u001b[49m\u001b[43m \u001b[49m\u001b[43mvalue\u001b[49m\u001b[43m}\u001b[49m\u001b[43m)\u001b[49m[\u001b[38;5;124m\"\u001b[39m\u001b[38;5;124mvalue\u001b[39m\u001b[38;5;124m\"\u001b[39m]\n",
      "File \u001b[1;32m~\\anaconda3\\lib\\site-packages\\selenium\\webdriver\\remote\\webdriver.py:347\u001b[0m, in \u001b[0;36mWebDriver.execute\u001b[1;34m(self, driver_command, params)\u001b[0m\n\u001b[0;32m    345\u001b[0m response \u001b[38;5;241m=\u001b[39m \u001b[38;5;28mself\u001b[39m\u001b[38;5;241m.\u001b[39mcommand_executor\u001b[38;5;241m.\u001b[39mexecute(driver_command, params)\n\u001b[0;32m    346\u001b[0m \u001b[38;5;28;01mif\u001b[39;00m response:\n\u001b[1;32m--> 347\u001b[0m     \u001b[38;5;28;43mself\u001b[39;49m\u001b[38;5;241;43m.\u001b[39;49m\u001b[43merror_handler\u001b[49m\u001b[38;5;241;43m.\u001b[39;49m\u001b[43mcheck_response\u001b[49m\u001b[43m(\u001b[49m\u001b[43mresponse\u001b[49m\u001b[43m)\u001b[49m\n\u001b[0;32m    348\u001b[0m     response[\u001b[38;5;124m\"\u001b[39m\u001b[38;5;124mvalue\u001b[39m\u001b[38;5;124m\"\u001b[39m] \u001b[38;5;241m=\u001b[39m \u001b[38;5;28mself\u001b[39m\u001b[38;5;241m.\u001b[39m_unwrap_value(response\u001b[38;5;241m.\u001b[39mget(\u001b[38;5;124m\"\u001b[39m\u001b[38;5;124mvalue\u001b[39m\u001b[38;5;124m\"\u001b[39m, \u001b[38;5;28;01mNone\u001b[39;00m))\n\u001b[0;32m    349\u001b[0m     \u001b[38;5;28;01mreturn\u001b[39;00m response\n",
      "File \u001b[1;32m~\\anaconda3\\lib\\site-packages\\selenium\\webdriver\\remote\\errorhandler.py:229\u001b[0m, in \u001b[0;36mErrorHandler.check_response\u001b[1;34m(self, response)\u001b[0m\n\u001b[0;32m    227\u001b[0m         alert_text \u001b[38;5;241m=\u001b[39m value[\u001b[38;5;124m\"\u001b[39m\u001b[38;5;124malert\u001b[39m\u001b[38;5;124m\"\u001b[39m]\u001b[38;5;241m.\u001b[39mget(\u001b[38;5;124m\"\u001b[39m\u001b[38;5;124mtext\u001b[39m\u001b[38;5;124m\"\u001b[39m)\n\u001b[0;32m    228\u001b[0m     \u001b[38;5;28;01mraise\u001b[39;00m exception_class(message, screen, stacktrace, alert_text)  \u001b[38;5;66;03m# type: ignore[call-arg]  # mypy is not smart enough here\u001b[39;00m\n\u001b[1;32m--> 229\u001b[0m \u001b[38;5;28;01mraise\u001b[39;00m exception_class(message, screen, stacktrace)\n",
      "\u001b[1;31mNoSuchElementException\u001b[0m: Message: no such element: Unable to locate element: {\"method\":\"css selector\",\"selector\":\"[id=\"twotabsearchtextbox\"]\"}\n  (Session info: chrome=121.0.6167.185); For documentation on this error, please visit: https://www.selenium.dev/documentation/webdriver/troubleshooting/errors#no-such-element-exception\nStacktrace:\n\tGetHandleVerifier [0x00007FF620B47012+3522402]\n\t(No symbol) [0x00007FF620768352]\n\t(No symbol) [0x00007FF620615ABB]\n\t(No symbol) [0x00007FF62065BF0E]\n\t(No symbol) [0x00007FF62065C08C]\n\t(No symbol) [0x00007FF62069E437]\n\t(No symbol) [0x00007FF62067F09F]\n\t(No symbol) [0x00007FF62069BDA3]\n\t(No symbol) [0x00007FF62067EE03]\n\t(No symbol) [0x00007FF62064F4D4]\n\t(No symbol) [0x00007FF6206505F1]\n\tGetHandleVerifier [0x00007FF620B79B9D+3730157]\n\tGetHandleVerifier [0x00007FF620BCF02D+4079485]\n\tGetHandleVerifier [0x00007FF620BC75D3+4048163]\n\tGetHandleVerifier [0x00007FF62089A649+718233]\n\t(No symbol) [0x00007FF620774A3F]\n\t(No symbol) [0x00007FF62076FA94]\n\t(No symbol) [0x00007FF62076FBC2]\n\t(No symbol) [0x00007FF62075F2E4]\n\tBaseThreadInitThunk [0x00007FFA01017344+20]\n\tRtlUserThreadStart [0x00007FFA011826B1+33]\n"
     ]
    }
   ],
   "source": [
    "driver=webdriver.Chrome()\n",
    "driver.get(\"https://www.amazon.in/\")\n",
    "delay=10\n",
    "element=driver.find_element(By.ID,\"twotabsearchtextbox\")\n",
    "element.send_keys('guitar')\n",
    "element.text"
   ]
  },
  {
   "cell_type": "code",
   "execution_count": null,
   "id": "b2ef0338",
   "metadata": {},
   "outputs": [],
   "source": [
    "try:\n",
    "    element=driver.find_element(By.ID,\"guitar\")\n",
    "    print(element.text)\n",
    "except NoSuchElementException as e:\n",
    "    print(\"exception Raised: \",e)\n",
    "    element=driver.find_element(By.CLASS_NAME,\"a-size-base a-color-base\")\n",
    "    print(element.text)"
   ]
  },
  {
   "cell_type": "code",
   "execution_count": null,
   "id": "f9200f2e",
   "metadata": {},
   "outputs": [],
   "source": [
    "2ND QUESTION"
   ]
  },
  {
   "cell_type": "code",
   "execution_count": null,
   "id": "aa96c68d",
   "metadata": {},
   "outputs": [],
   "source": [
    "driver=webdriver.Chrome()\n",
    "driver.get(\"https://www.amazon.in/\")\n",
    "delay=10\n",
    "element=driver.find_element(By.ID,\"twotabsearchtextbox\")\n",
    "element.send_keys('guitar')\n",
    "element=driver.find_element(By.CLASS_NAME,\"try:\n",
    "    element=driver.find_element(By.ID,\"guitar\")\n",
    "    print(element.text)\n",
    "element=driver.find_element(By.CLASS_NAME,\"a-price-whole\")\n",
    "element=driver.find_element(By.CLASS_NAME,\"a-section a-spacing-none a-spacing-top-micro\")\n"
   ]
  },
  {
   "cell_type": "code",
   "execution_count": null,
   "id": "78d9a79e",
   "metadata": {},
   "outputs": [],
   "source": [
    "try:\n",
    "    element=driver.find_element(By.CLASS_NAME,\"PRODUCT_NAME\")\n",
    "    print(element.text)\n",
    "except NoSuchElementException as e:\n",
    "    print(\"exception Raised: \",e)\n",
    "    element=driver.find_element(By.CLASS_NAME,\"a-size-base a-color-base\")\n",
    "    print(element.text)"
   ]
  },
  {
   "cell_type": "code",
   "execution_count": null,
   "id": "cd550bc7",
   "metadata": {},
   "outputs": [],
   "source": [
    "3RD QUESTION"
   ]
  },
  {
   "cell_type": "code",
   "execution_count": null,
   "id": "bba895a6",
   "metadata": {},
   "outputs": [],
   "source": [
    "driver=webdriver.Chrome()\n",
    "driver.get(\"https://images.google.com//\")\n",
    "delay=10\n",
    "element=driver.find_element(By.ID,\"APjFqb\")\n",
    "element.send_keys('guitar')\n",
    "element=driver.find_element(By.CLASS_NAME,\"zgAlFc\")\n",
    "delay=10\n",
    "element=driver.find_element(By.ID,\"APjFqb\")\n",
    "element.send_keys('fruits')\n",
    "delay=10\n",
    "element=driver.find_element(By.ID,\"APjFqb\")\n",
    "element.send_keys('data scientist')\n",
    "delay=10\n",
    "element=driver.find_element(By.ID,\"APjFqb\")\n",
    "element.send_keys('cakes')\n",
    "\n"
   ]
  },
  {
   "cell_type": "code",
   "execution_count": null,
   "id": "cad50e0f",
   "metadata": {},
   "outputs": [],
   "source": [
    "driver.close()"
   ]
  },
  {
   "cell_type": "code",
   "execution_count": null,
   "id": "1e2f31f0",
   "metadata": {},
   "outputs": [],
   "source": [
    "4th question"
   ]
  },
  {
   "cell_type": "code",
   "execution_count": 33,
   "id": "e5a2cb94",
   "metadata": {},
   "outputs": [],
   "source": [
    "from selenium import webdriver\n",
    "import time \n",
    "from selenium.common.exceptions import NoSuchElementException\n",
    "import warnings \n",
    "warnings.filterwarnings('ignore')\n",
    "from selenium.webdriver.common.by import By"
   ]
  },
  {
   "cell_type": "code",
   "execution_count": 34,
   "id": "3a82f27c",
   "metadata": {},
   "outputs": [],
   "source": [
    "driver=webdriver.Chrome()\n",
    "driver.get(\"https://www.flipkart.com/\")\n",
    "element=driver.find_element(By.CLASS_NAME,\"Pke_EE\")\n",
    "element.send_keys('smartphone One plus')\n"
   ]
  },
  {
   "cell_type": "code",
   "execution_count": 35,
   "id": "893955eb",
   "metadata": {},
   "outputs": [],
   "source": [
    "search=driver.find_element(By.CLASS_NAME, \"_2iLD__\")\n",
    "search.click()"
   ]
  },
  {
   "cell_type": "code",
   "execution_count": 36,
   "id": "82a7354e",
   "metadata": {},
   "outputs": [],
   "source": [
    "Brand_Name=[]\n",
    "Colour=[]\n",
    "Primary_camera=[]\n",
    "storage_Ram=[]\n",
    "Secondary_camera=[]\n",
    "Battery_space=[]"
   ]
  },
  {
   "cell_type": "code",
   "execution_count": 37,
   "id": "4424a4a6",
   "metadata": {},
   "outputs": [],
   "source": [
    "Brand_Name=driver.find_elements(By.XPATH,'//div/html/body/div/div/div[3]/div[1]/div[2]/div[2]/div/div/div/a/div[2]/div[1]/div[1]/div')\n",
    "for i in Brand_Name:\n",
    "    Brand=i.text\n",
    "    job_title.append(Brand)"
   ]
  },
  {
   "cell_type": "code",
   "execution_count": 38,
   "id": "5ccf5e1b",
   "metadata": {},
   "outputs": [],
   "source": [
    "Storage_Ram=driver.find_elements(By.XPATH,'//div/html/body/div/div/div[3]/div[1]/div[1]/div/div/div/section[7]/div[1]/div')\n",
    "for i in Storage_Ram:\n",
    "    Storage=i.text\n",
    "    Storage_Ram.append(Storage)"
   ]
  },
  {
   "cell_type": "code",
   "execution_count": 39,
   "id": "11e27607",
   "metadata": {},
   "outputs": [],
   "source": [
    "Primary_camera=driver.find_elements(By.XPATH,'//div/html/body/div/div/div[3]/div[1]/div[1]/div/div[1]/div/section[11]/div')\n",
    "for i in Primary_camera:\n",
    "    Primary=i.text\n",
    "    Primary_camera.append(Primary)"
   ]
  },
  {
   "cell_type": "code",
   "execution_count": 40,
   "id": "3d71e848",
   "metadata": {},
   "outputs": [],
   "source": [
    "Secondary_camera=driver.find_elements(By.XPATH,'//div/html/body/div/div/div[3]/div[1]/div[1]/div/div[1]/div/section[12]/div')\n",
    "for i in Secondary_camera:\n",
    "    Secondary=i.text\n",
    "    Secondary_camera.append(Secondary)"
   ]
  },
  {
   "cell_type": "code",
   "execution_count": 41,
   "id": "c1dbbfc2",
   "metadata": {},
   "outputs": [],
   "source": [
    "Battery_Space=driver.find_elements(By.XPATH,'//div/html/body/div/div/div[3]/div[1]/div[1]/div/div[1]/div/section[9]/div')\n",
    "for i in Battery_Space:\n",
    "    Battery=i.text\n",
    "    Battery_Space.append(Battery)"
   ]
  },
  {
   "cell_type": "code",
   "execution_count": 43,
   "id": "15dbf77f",
   "metadata": {},
   "outputs": [
    {
     "name": "stdout",
     "output_type": "stream",
     "text": [
      "0 0 0 0 0 0\n"
     ]
    }
   ],
   "source": [
    "print(len(Brand_Name),len(Colour),len(Storage_Ram),len(Primary_camera),len(Secondary_camera),len(Battery_Space))"
   ]
  },
  {
   "cell_type": "code",
   "execution_count": null,
   "id": "5c864836",
   "metadata": {},
   "outputs": [],
   "source": [
    "5th question"
   ]
  },
  {
   "cell_type": "code",
   "execution_count": 44,
   "id": "9fc8897a",
   "metadata": {},
   "outputs": [],
   "source": [
    "driver=webdriver.Chrome()\n",
    "driver.get(\"https://www.googlemaps.com/\")\n"
   ]
  },
  {
   "cell_type": "code",
   "execution_count": 45,
   "id": "a44f31fd",
   "metadata": {},
   "outputs": [],
   "source": [
    "driver=webdriver.Chrome()\n",
    "driver.get(\"https://www.forbes.com/\")\n"
   ]
  },
  {
   "cell_type": "code",
   "execution_count": null,
   "id": "3299fea7",
   "metadata": {},
   "outputs": [],
   "source": [
    "element=driver.find_element(By.ID,\"APjFqb\")\n",
    "element.send_keys('guitar')\n"
   ]
  }
 ],
 "metadata": {
  "kernelspec": {
   "display_name": "Python 3 (ipykernel)",
   "language": "python",
   "name": "python3"
  },
  "language_info": {
   "codemirror_mode": {
    "name": "ipython",
    "version": 3
   },
   "file_extension": ".py",
   "mimetype": "text/x-python",
   "name": "python",
   "nbconvert_exporter": "python",
   "pygments_lexer": "ipython3",
   "version": "3.10.9"
  }
 },
 "nbformat": 4,
 "nbformat_minor": 5
}
